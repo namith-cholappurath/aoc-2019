{
 "cells": [
  {
   "cell_type": "code",
   "execution_count": null,
   "metadata": {},
   "outputs": [],
   "source": [
    "353096-843212"
   ]
  },
  {
   "cell_type": "code",
   "execution_count": 13,
   "metadata": {},
   "outputs": [
    {
     "name": "stdout",
     "output_type": "stream",
     "text": [
      "total: 358\n"
     ]
    }
   ],
   "source": [
    "import pandas as pd\n",
    "\n",
    "def validate_part1(num):\n",
    "    #print('num:',num)\n",
    "    num_str=str(num)\n",
    "    seq_validation = 1\n",
    "    repeat_validation = 0\n",
    "    for i in range(len(num_str)-1):\n",
    "        if(num_str[i]>num_str[i+1]):  #checking for false condition\n",
    "            seq_validation = 0 \n",
    "        if(num_str[i]==num_str[i+1]):   #checking for true condition\n",
    "            repeat_validation = 1\n",
    "    #print(\"repeat:\",repeat_validation)\n",
    "    #print(\"seq:\",seq_validation)\n",
    "    if(seq_validation == 1) and (repeat_validation == 1):\n",
    "        return(1)\n",
    "    else:\n",
    "        return(0)\n",
    "def validate_part2(num):\n",
    "    #print('num:',num)\n",
    "    num_str=str(num)\n",
    "    seq_validation = 1\n",
    "    repeat_validation = 0\n",
    "    repeat_count = 0\n",
    "    repeat_list = []\n",
    "    for i in range(len(num_str)-1):\n",
    "        right = 0\n",
    "        left = 0\n",
    "        if(num_str[i]>num_str[i+1]):  #checking for false condition\n",
    "            seq_validation = 0 \n",
    "        if(num_str[i]==num_str[i+1]):   #checking for true condition\n",
    "            repeat_count = repeat_count+1\n",
    "        else:\n",
    "            repeat_list.append(repeat_count)\n",
    "            repeat_count = 0\n",
    "    for i in repeat_list:\n",
    "        if(i==1 or repeat_count == 1):\n",
    "            repeat_validation = 1        \n",
    "    #print(\"repeat:\",repeat_validation)\n",
    "    #print(\"seq:\",seq_validation)\n",
    "    if(seq_validation == 1) and (repeat_validation == 1):\n",
    "        return(1)\n",
    "    else:\n",
    "        return(0)\n",
    "\n",
    "rg=range(353096,843213)\n"
   ]
  },
  {
   "cell_type": "code",
   "execution_count": 16,
   "metadata": {},
   "outputs": [
    {
     "name": "stdout",
     "output_type": "stream",
     "text": [
      "total: 579\n"
     ]
    }
   ],
   "source": [
    "#part1\n",
    "total = 0\n",
    "for num in rg:\n",
    "    total = total + validate_part1(num)\n",
    "print(\"total:\",total)"
   ]
  },
  {
   "cell_type": "code",
   "execution_count": 17,
   "metadata": {},
   "outputs": [
    {
     "name": "stdout",
     "output_type": "stream",
     "text": [
      "total: 358\n"
     ]
    }
   ],
   "source": [
    "#part2\n",
    "total = 0\n",
    "for num in rg:\n",
    "    total = total + validate_part2(num)\n",
    "print(\"total:\",total)"
   ]
  },
  {
   "cell_type": "code",
   "execution_count": null,
   "metadata": {},
   "outputs": [],
   "source": []
  }
 ],
 "metadata": {
  "kernelspec": {
   "display_name": "Python 3",
   "language": "python",
   "name": "python3"
  },
  "language_info": {
   "codemirror_mode": {
    "name": "ipython",
    "version": 3
   },
   "file_extension": ".py",
   "mimetype": "text/x-python",
   "name": "python",
   "nbconvert_exporter": "python",
   "pygments_lexer": "ipython3",
   "version": "3.7.4"
  }
 },
 "nbformat": 4,
 "nbformat_minor": 2
}
